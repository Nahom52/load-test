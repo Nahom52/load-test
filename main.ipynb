{
 "cells": [
  {
   "attachments": {},
   "cell_type": "markdown",
   "metadata": {},
   "source": [
    "In this file we have plotted the graphs of the"
   ]
  },
  {
   "cell_type": "markdown",
   "metadata": {},
   "source": []
  },
  {
   "cell_type": "code",
   "execution_count": 1,
   "metadata": {},
   "outputs": [
    {
     "ename": "KeyboardInterrupt",
     "evalue": "",
     "output_type": "error",
     "traceback": [
      "\u001b[1;31m---------------------------------------------------------------------------\u001b[0m",
      "\u001b[1;31mKeyboardInterrupt\u001b[0m                         Traceback (most recent call last)",
      "Cell \u001b[1;32mIn[1], line 2\u001b[0m\n\u001b[0;32m      1\u001b[0m \u001b[39mimport\u001b[39;00m \u001b[39mmatplotlib\u001b[39;00m\u001b[39m.\u001b[39;00m\u001b[39mpyplot\u001b[39;00m \u001b[39mas\u001b[39;00m \u001b[39mplt\u001b[39;00m\n\u001b[1;32m----> 2\u001b[0m \u001b[39mfrom\u001b[39;00m \u001b[39mminst_data\u001b[39;00m\u001b[39m.\u001b[39;00m\u001b[39mnaive_bayes2\u001b[39;00m \u001b[39mimport\u001b[39;00m \u001b[39m*\u001b[39m\n",
      "File \u001b[1;32mc:\\Users\\hp\\Desktop\\machine_learning\\minst_data\\naive_bayes2.py:98\u001b[0m\n\u001b[0;32m     96\u001b[0m count \u001b[39m=\u001b[39m \u001b[39m0\u001b[39m\n\u001b[0;32m     97\u001b[0m \u001b[39mfor\u001b[39;00m index,test_image \u001b[39min\u001b[39;00m \u001b[39menumerate\u001b[39m(obj\u001b[39m.\u001b[39mtest_images):\n\u001b[1;32m---> 98\u001b[0m     \u001b[39mif\u001b[39;00m obj\u001b[39m.\u001b[39;49mpredict(test_image) \u001b[39m==\u001b[39m obj\u001b[39m.\u001b[39mtest_labels[index]:\n\u001b[0;32m     99\u001b[0m        count \u001b[39m+\u001b[39m\u001b[39m=\u001b[39m \u001b[39m1\u001b[39m \n\u001b[0;32m    100\u001b[0m     \u001b[39melse\u001b[39;00m:\n",
      "File \u001b[1;32mc:\\Users\\hp\\Desktop\\machine_learning\\minst_data\\naive_bayes2.py:79\u001b[0m, in \u001b[0;36mNaiveBayes.predict\u001b[1;34m(self, data)\u001b[0m\n\u001b[0;32m     78\u001b[0m \u001b[39mdef\u001b[39;00m \u001b[39mpredict\u001b[39m(\u001b[39mself\u001b[39m,data):\n\u001b[1;32m---> 79\u001b[0m     class_prob \u001b[39m=\u001b[39m \u001b[39mself\u001b[39;49m\u001b[39m.\u001b[39;49mclass_probability(data)\n\u001b[0;32m     80\u001b[0m     \u001b[39m#let's get the class with the highest probability\u001b[39;00m\n\u001b[0;32m     81\u001b[0m     \u001b[39mreturn\u001b[39;00m \u001b[39mmax\u001b[39m(class_prob, key\u001b[39m=\u001b[39mclass_prob\u001b[39m.\u001b[39mget)\n",
      "File \u001b[1;32mc:\\Users\\hp\\Desktop\\machine_learning\\minst_data\\naive_bayes2.py:73\u001b[0m, in \u001b[0;36mNaiveBayes.class_probability\u001b[1;34m(self, data)\u001b[0m\n\u001b[0;32m     71\u001b[0m         \u001b[39mif\u001b[39;00m value \u001b[39m==\u001b[39m \u001b[39m0\u001b[39m:\n\u001b[0;32m     72\u001b[0m             \u001b[39mcontinue\u001b[39;00m\n\u001b[1;32m---> 73\u001b[0m         conditional_probability \u001b[39m=\u001b[39m \u001b[39mself\u001b[39;49m\u001b[39m.\u001b[39;49mprobability(value,\u001b[39mself\u001b[39;49m\u001b[39m.\u001b[39;49mclass_stat[key][\u001b[39m0\u001b[39;49m][index],\u001b[39mself\u001b[39;49m\u001b[39m.\u001b[39;49mclass_stat[key][\u001b[39m1\u001b[39;49m][index])\n\u001b[0;32m     74\u001b[0m         class_prob[key] \u001b[39m+\u001b[39m\u001b[39m=\u001b[39m math\u001b[39m.\u001b[39mlog(conditional_probability)\n\u001b[0;32m     76\u001b[0m \u001b[39mreturn\u001b[39;00m class_prob\n",
      "File \u001b[1;32mc:\\Users\\hp\\Desktop\\machine_learning\\minst_data\\naive_bayes2.py:61\u001b[0m, in \u001b[0;36mNaiveBayes.probability\u001b[1;34m(self, x, mean, stdev)\u001b[0m\n\u001b[0;32m     59\u001b[0m exponent \u001b[39m=\u001b[39m \u001b[39m-\u001b[39m((x \u001b[39m-\u001b[39m mean) \u001b[39m*\u001b[39m\u001b[39m*\u001b[39m \u001b[39m2\u001b[39m) \u001b[39m/\u001b[39m (\u001b[39m2\u001b[39m \u001b[39m*\u001b[39m stdev \u001b[39m*\u001b[39m\u001b[39m*\u001b[39m \u001b[39m2\u001b[39m \u001b[39m+\u001b[39m \u001b[39mself\u001b[39m\u001b[39m.\u001b[39msmoothing_factor)\n\u001b[0;32m     60\u001b[0m denominator \u001b[39m=\u001b[39m math\u001b[39m.\u001b[39msqrt(\u001b[39m2\u001b[39m \u001b[39m*\u001b[39m math\u001b[39m.\u001b[39mpi \u001b[39m*\u001b[39m stdev \u001b[39m*\u001b[39m\u001b[39m*\u001b[39m \u001b[39m2\u001b[39m \u001b[39m+\u001b[39m \u001b[39mself\u001b[39m\u001b[39m.\u001b[39msmoothing_factor)\n\u001b[1;32m---> 61\u001b[0m \u001b[39mreturn\u001b[39;00m math\u001b[39m.\u001b[39mexp(exponent) \u001b[39m/\u001b[39m denominator\n",
      "\u001b[1;31mKeyboardInterrupt\u001b[0m: "
     ]
    }
   ],
   "source": [
    "import matplotlib.pyplot as plt\n",
    "from minst_data.naive_bayes2 import *"
   ]
  },
  {
   "attachments": {},
   "cell_type": "markdown",
   "metadata": {},
   "source": [
    "MNIST Naive"
   ]
  },
  {
   "cell_type": "code",
   "execution_count": null,
   "metadata": {},
   "outputs": [],
   "source": []
  }
 ],
 "metadata": {
  "kernelspec": {
   "display_name": "Python 3",
   "language": "python",
   "name": "python3"
  },
  "language_info": {
   "codemirror_mode": {
    "name": "ipython",
    "version": 3
   },
   "file_extension": ".py",
   "mimetype": "text/x-python",
   "name": "python",
   "nbconvert_exporter": "python",
   "pygments_lexer": "ipython3",
   "version": "3.11.2"
  },
  "orig_nbformat": 4
 },
 "nbformat": 4,
 "nbformat_minor": 2
}
